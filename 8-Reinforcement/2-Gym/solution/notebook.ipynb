{
  "metadata": {
    "language_info": {
      "codemirror_mode": {
        "name": "ipython",
        "version": 3
      },
      "file_extension": ".py",
      "mimetype": "text/x-python",
      "name": "python",
      "nbconvert_exporter": "python",
      "pygments_lexer": "ipython3",
      "version": "3.7.0"
    },
    "orig_nbformat": 4,
    "kernelspec": {
      "name": "python3",
      "display_name": "Python 3.7.0 64-bit ('3.7')"
    },
    "interpreter": {
      "hash": "70b38d7a306a849643e446cd70466270a13445e5987dfa1344ef2b127438fa4d"
    },
    "colab": {
      "provenance": [],
      "toc_visible": true
    }
  },
  "nbformat": 4,
  "nbformat_minor": 0,
  "cells": [
    {
      "source": [
        "## CartPole Skating\n",
        "\n",
        "> **Problem**: If Peter wants to escape from the wolf, he needs to be able to move faster than him. We will see how Peter can learn to skate, in particular, to keep balance, using Q-Learning.\n",
        "\n",
        "First, let's install the gym and import required libraries:"
      ],
      "cell_type": "markdown",
      "metadata": {
        "id": "JHNNRjC4tGWj"
      }
    },
    {
      "cell_type": "code",
      "execution_count": 4,
      "metadata": {
        "colab": {
          "base_uri": "https://localhost:8080/"
        },
        "id": "B_JsvKietGWk",
        "outputId": "35492ccb-1d49-4407-859b-e9fc9ae9529a"
      },
      "outputs": [
        {
          "output_type": "stream",
          "name": "stdout",
          "text": [
            "Requirement already satisfied: gymnasium in /usr/local/lib/python3.12/dist-packages (1.2.0)\n",
            "Requirement already satisfied: numpy>=1.21.0 in /usr/local/lib/python3.12/dist-packages (from gymnasium) (2.0.2)\n",
            "Requirement already satisfied: cloudpickle>=1.2.0 in /usr/local/lib/python3.12/dist-packages (from gymnasium) (3.1.1)\n",
            "Requirement already satisfied: typing-extensions>=4.3.0 in /usr/local/lib/python3.12/dist-packages (from gymnasium) (4.15.0)\n",
            "Requirement already satisfied: farama-notifications>=0.0.1 in /usr/local/lib/python3.12/dist-packages (from gymnasium) (0.0.4)\n"
          ]
        },
        {
          "output_type": "stream",
          "name": "stderr",
          "text": [
            "/usr/local/lib/python3.12/dist-packages/jupyter_client/session.py:203: DeprecationWarning: datetime.datetime.utcnow() is deprecated and scheduled for removal in a future version. Use timezone-aware objects to represent datetimes in UTC: datetime.datetime.now(datetime.UTC).\n",
            "  return datetime.utcnow().replace(tzinfo=utc)\n"
          ]
        }
      ],
      "source": [
        "import sys\n",
        "!pip install gymnasium\n",
        "\n",
        "import gymnasium as gym # Import gymnasium as gym\n",
        "import matplotlib.pyplot as plt\n",
        "import numpy as np\n",
        "import random"
      ]
    },
    {
      "source": [
        "## Create a cartpole environment"
      ],
      "cell_type": "markdown",
      "metadata": {
        "id": "V79nHcuHtGWl"
      }
    },
    {
      "source": [
        "env = gym.make(\"CartPole-v1\") # Removed render_mode=\"human\"\n",
        "print(env.action_space)\n",
        "print(env.observation_space)\n",
        "print(env.action_space.sample())"
      ],
      "cell_type": "code",
      "metadata": {
        "colab": {
          "base_uri": "https://localhost:8080/"
        },
        "id": "1xZ7_pMPtGWl",
        "outputId": "3a991dd6-5a0d-4429-dcfc-a32e00e64541"
      },
      "execution_count": 17,
      "outputs": [
        {
          "output_type": "stream",
          "name": "stdout",
          "text": [
            "Discrete(2)\n",
            "Box([-4.8               -inf -0.41887903        -inf], [4.8               inf 0.41887903        inf], (4,), float32)\n",
            "1\n"
          ]
        }
      ]
    },
    {
      "source": [
        "To see how the environment works, let's run a short simulation for 100 steps."
      ],
      "cell_type": "markdown",
      "metadata": {
        "id": "2ZLh7SqitGWl"
      }
    },
    {
      "source": [
        "env.reset()\n",
        "\n",
        "for i in range(100):\n",
        "   # env.render() # render is called implicitly when render_mode is set\n",
        "   env.step(env.action_space.sample())\n",
        "env.close()"
      ],
      "cell_type": "code",
      "metadata": {
        "colab": {
          "base_uri": "https://localhost:8080/"
        },
        "id": "5k_niHOctGWl",
        "outputId": "cf0630aa-3c08-40da-ba02-4837a7e43cc6"
      },
      "execution_count": 14,
      "outputs": [
        {
          "output_type": "stream",
          "name": "stderr",
          "text": [
            "/usr/local/lib/python3.12/dist-packages/gymnasium/envs/classic_control/cartpole.py:214: UserWarning: \u001b[33mWARN: You are calling 'step()' even though this environment has already returned terminated = True. You should always call 'reset()' once you receive 'terminated = True' -- any further steps are undefined behavior.\u001b[0m\n",
            "  logger.warn(\n"
          ]
        }
      ]
    },
    {
      "source": [
        "During simulation, we need to get observations in order to decide how to act. In fact, `step` function returns us back current observations, reward function, and the `done` flag that indicates whether it makes sense to continue the simulation or not:"
      ],
      "cell_type": "markdown",
      "metadata": {
        "id": "qhD_g-UgtGWl"
      }
    },
    {
      "source": [
        "env.reset()\n",
        "\n",
        "done = False\n",
        "while not done:\n",
        "   # env.render() # render is called implicitly when render_mode is set\n",
        "   obs, rew, terminated, truncated, info = env.step(env.action_space.sample()) # Updated step return values\n",
        "   done = terminated or truncated # Update done flag\n",
        "   print(f\"{obs} -> {rew}\")\n",
        "env.close()"
      ],
      "cell_type": "code",
      "metadata": {
        "colab": {
          "base_uri": "https://localhost:8080/"
        },
        "id": "fDXTLoDotGWl",
        "outputId": "32122c45-326b-42d3-80ba-eca5f2ef4243"
      },
      "execution_count": 18,
      "outputs": [
        {
          "output_type": "stream",
          "name": "stdout",
          "text": [
            "[ 0.00253831  0.21853594 -0.00995881 -0.32578412] -> 1.0\n",
            "[ 0.00690903  0.02355719 -0.01647449 -0.03625834] -> 1.0\n",
            "[ 0.00738017  0.21891147 -0.01719966 -0.33409327] -> 1.0\n",
            "[ 0.0117584   0.02403848 -0.02388153 -0.04688348] -> 1.0\n",
            "[ 0.01223917  0.2194946  -0.0248192  -0.34700453] -> 1.0\n",
            "[ 0.01662906  0.41496062 -0.03175929 -0.6474094 ] -> 1.0\n",
            "[ 0.02492828  0.2202952  -0.04470747 -0.36489418] -> 1.0\n",
            "[ 0.02933418  0.41602308 -0.05200536 -0.67133224] -> 1.0\n",
            "[ 0.03765464  0.6118279  -0.065432   -0.97992516] -> 1.0\n",
            "[ 0.0498912  0.4176412 -0.0850305 -0.7084916] -> 1.0\n",
            "[ 0.05824402  0.22379355 -0.09920034 -0.44373953] -> 1.0\n",
            "[ 0.0627199   0.03020487 -0.10807513 -0.18390122] -> 1.0\n",
            "[ 0.06332399 -0.16321805 -0.11175315  0.07282814] -> 1.0\n",
            "[ 0.06005963  0.03331386 -0.11029659 -0.25291792] -> 1.0\n",
            "[ 0.06072591 -0.16007449 -0.11535495  0.00304045] -> 1.0\n",
            "[ 0.05752442 -0.35336936 -0.11529414  0.2572166 ] -> 1.0\n",
            "[ 0.05045703 -0.5466727  -0.11014981  0.51142514] -> 1.0\n",
            "[ 0.03952358 -0.7400847  -0.09992131  0.76746637] -> 1.0\n",
            "[ 0.02472188 -0.9336995  -0.08457198  1.0271119 ] -> 1.0\n",
            "[ 0.00604789 -0.7375598  -0.06402974  0.7091193 ] -> 1.0\n",
            "[-0.0087033  -0.93173915 -0.04984735  0.9809797 ] -> 1.0\n",
            "[-0.02733809 -0.7359859  -0.03022776  0.67306536] -> 1.0\n",
            "[-0.0420578  -0.54045707 -0.01676645  0.37102062] -> 1.0\n",
            "[-0.05286695 -0.7353369  -0.00934604  0.6583701 ] -> 1.0\n",
            "[-0.06757368 -0.93032753  0.00382136  0.94809556] -> 1.0\n",
            "[-0.08618023 -0.7352572   0.02278327  0.65661573] -> 1.0\n",
            "[-0.10088538 -0.9306888   0.03591559  0.9563847 ] -> 1.0\n",
            "[-0.11949915 -1.126275    0.05504328  1.2601316 ] -> 1.0\n",
            "[-0.14202465 -1.322056    0.08024591  1.5695331 ] -> 1.0\n",
            "[-0.16846578 -1.5180391   0.11163658  1.8861287 ] -> 1.0\n",
            "[-0.19882655 -1.714184    0.14935915  2.2112677 ] -> 1.0\n",
            "[-0.23311023 -1.9103886   0.1935845   2.5460463 ] -> 1.0\n",
            "[-0.27131802 -1.7172804   0.24450544  2.3183537 ] -> 1.0\n"
          ]
        }
      ]
    },
    {
      "source": [
        "We can get min and max value of those numbers:"
      ],
      "cell_type": "markdown",
      "metadata": {
        "id": "m5zRWHW2tGWl"
      }
    },
    {
      "cell_type": "code",
      "execution_count": 21,
      "metadata": {
        "colab": {
          "base_uri": "https://localhost:8080/"
        },
        "id": "4OYkcJVltGWm",
        "outputId": "545276c2-93a0-46dd-a370-ff21b52cba10"
      },
      "outputs": [
        {
          "output_type": "stream",
          "name": "stdout",
          "text": [
            "[-4.8               -inf -0.41887903        -inf]\n",
            "[4.8               inf 0.41887903        inf]\n"
          ]
        }
      ],
      "source": [
        "print(env.observation_space.low)\n",
        "print(env.observation_space.high)"
      ]
    },
    {
      "source": [
        "## State Discretization"
      ],
      "cell_type": "markdown",
      "metadata": {
        "id": "JPi5QaDDtGWm"
      }
    },
    {
      "cell_type": "code",
      "execution_count": 26,
      "metadata": {
        "id": "3m6NBc3itGWm"
      },
      "outputs": [],
      "source": [
        "def discretize(x):\n",
        "    return tuple((x/np.array([0.25, 0.25, 0.01, 0.1])).astype(int))"
      ]
    },
    {
      "source": [
        "Let's also explore other discretization method using bins:"
      ],
      "cell_type": "markdown",
      "metadata": {
        "id": "ZAqtrMMQtGWm"
      }
    },
    {
      "cell_type": "code",
      "execution_count": 23,
      "metadata": {
        "colab": {
          "base_uri": "https://localhost:8080/"
        },
        "id": "Ddg9Xuo4tGWm",
        "outputId": "fd77b016-7f4d-482d-9072-6e0270abf494"
      },
      "outputs": [
        {
          "output_type": "stream",
          "name": "stdout",
          "text": [
            "Sample bins for interval (-5,5) with 10 bins\n",
            " [-5. -4. -3. -2. -1.  0.  1.  2.  3.  4.  5.]\n"
          ]
        }
      ],
      "source": [
        "def create_bins(i,num):\n",
        "    return np.arange(num+1)*(i[1]-i[0])/num+i[0]\n",
        "\n",
        "print(\"Sample bins for interval (-5,5) with 10 bins\\n\",create_bins((-5,5),10))\n",
        "\n",
        "ints = [(-5,5),(-2,2),(-0.5,0.5),(-2,2)] # intervals of values for each parameter\n",
        "nbins = [20,20,10,10] # number of bins for each parameter\n",
        "bins = [create_bins(ints[i],nbins[i]) for i in range(4)]\n",
        "\n",
        "def discretize_bins(x):\n",
        "    return tuple(np.digitize(x[i],bins[i]) for i in range(4))"
      ]
    },
    {
      "source": [
        "Let's now run a short simulation and observe those discrete environment values."
      ],
      "cell_type": "markdown",
      "metadata": {
        "id": "gMKJIsjhtGWm"
      }
    },
    {
      "cell_type": "code",
      "execution_count": 27,
      "metadata": {
        "colab": {
          "base_uri": "https://localhost:8080/"
        },
        "id": "JnL5jqr-tGWm",
        "outputId": "c0ab49ae-db31-47db-964b-1c25dbe5f762"
      },
      "outputs": [
        {
          "output_type": "stream",
          "name": "stdout",
          "text": [
            "(np.int64(0), np.int64(0), np.int64(2), np.int64(-2))\n",
            "(np.int64(0), np.int64(1), np.int64(1), np.int64(-5))\n",
            "(np.int64(0), np.int64(0), np.int64(0), np.int64(-2))\n",
            "(np.int64(0), np.int64(0), np.int64(0), np.int64(0))\n",
            "(np.int64(0), np.int64(0), np.int64(0), np.int64(-2))\n",
            "(np.int64(0), np.int64(1), np.int64(0), np.int64(-5))\n",
            "(np.int64(0), np.int64(2), np.int64(-1), np.int64(-8))\n",
            "(np.int64(0), np.int64(3), np.int64(-3), np.int64(-11))\n",
            "(np.int64(0), np.int64(2), np.int64(-5), np.int64(-8))\n",
            "(np.int64(0), np.int64(3), np.int64(-7), np.int64(-11))\n",
            "(np.int64(0), np.int64(2), np.int64(-9), np.int64(-9))\n",
            "(np.int64(0), np.int64(1), np.int64(-11), np.int64(-6))\n",
            "(np.int64(0), np.int64(0), np.int64(-13), np.int64(-4))\n",
            "(np.int64(0), np.int64(1), np.int64(-13), np.int64(-7))\n",
            "(np.int64(0), np.int64(0), np.int64(-15), np.int64(-4))\n",
            "(np.int64(0), np.int64(0), np.int64(-16), np.int64(-2))\n",
            "(np.int64(0), np.int64(0), np.int64(-16), np.int64(-5))\n",
            "(np.int64(0), np.int64(0), np.int64(-17), np.int64(-3))\n",
            "(np.int64(0), np.int64(0), np.int64(-18), np.int64(-1))\n",
            "(np.int64(0), np.int64(0), np.int64(-18), np.int64(-4))\n",
            "(np.int64(0), np.int64(0), np.int64(-19), np.int64(-2))\n",
            "(np.int64(0), np.int64(0), np.int64(-20), np.int64(-5))\n",
            "(np.int64(0), np.int64(0), np.int64(-21), np.int64(-9))\n"
          ]
        }
      ],
      "source": [
        "env.reset()\n",
        "\n",
        "done = False\n",
        "while not done:\n",
        "   #env.render()\n",
        "   obs, rew, terminated, truncated, info = env.step(env.action_space.sample()) # Updated step return values\n",
        "   done = terminated or truncated # Update done flag\n",
        "   #print(discretize_bins(obs))\n",
        "   print(discretize(obs))\n",
        "env.close()"
      ]
    },
    {
      "source": [
        "## Q-Table Structure"
      ],
      "cell_type": "markdown",
      "metadata": {
        "id": "TEKiEZYStGWm"
      }
    },
    {
      "cell_type": "code",
      "execution_count": 28,
      "metadata": {
        "id": "hbjyYmOBtGWm"
      },
      "outputs": [],
      "source": [
        "Q = {}\n",
        "actions = (0,1)\n",
        "\n",
        "def qvalues(state):\n",
        "    return [Q.get((state,a),0) for a in actions]"
      ]
    },
    {
      "source": [
        "## Let's Start Q-Learning!"
      ],
      "cell_type": "markdown",
      "metadata": {
        "id": "OY-gtlXWtGWm"
      }
    },
    {
      "cell_type": "code",
      "execution_count": 29,
      "metadata": {
        "id": "l8N5Q9QOtGWm"
      },
      "outputs": [],
      "source": [
        "# hyperparameters\n",
        "alpha = 0.3\n",
        "gamma = 0.9\n",
        "epsilon = 0.90"
      ]
    },
    {
      "cell_type": "code",
      "execution_count": 31,
      "metadata": {
        "colab": {
          "base_uri": "https://localhost:8080/"
        },
        "id": "YGZPTIS-tGWn",
        "outputId": "58af2fc4-b9b2-45f5-9bb9-7672e687c77e"
      },
      "outputs": [
        {
          "output_type": "stream",
          "name": "stdout",
          "text": [
            "0: 0.0, alpha=0.3, epsilon=0.9\n",
            "5000: 0.0, alpha=0.3, epsilon=0.9\n",
            "10000: 0.0, alpha=0.3, epsilon=0.9\n",
            "15000: 0.0, alpha=0.3, epsilon=0.9\n",
            "20000: 0.0, alpha=0.3, epsilon=0.9\n",
            "25000: 0.0, alpha=0.3, epsilon=0.9\n",
            "30000: 0.0, alpha=0.3, epsilon=0.9\n",
            "35000: 0.0, alpha=0.3, epsilon=0.9\n",
            "40000: 0.0, alpha=0.3, epsilon=0.9\n",
            "45000: 0.0, alpha=0.3, epsilon=0.9\n",
            "50000: 0.0, alpha=0.3, epsilon=0.9\n",
            "55000: 0.0, alpha=0.3, epsilon=0.9\n",
            "60000: 0.0, alpha=0.3, epsilon=0.9\n",
            "65000: 0.0, alpha=0.3, epsilon=0.9\n",
            "70000: 0.0, alpha=0.3, epsilon=0.9\n",
            "75000: 0.0, alpha=0.3, epsilon=0.9\n",
            "80000: 0.0, alpha=0.3, epsilon=0.9\n",
            "85000: 0.0, alpha=0.3, epsilon=0.9\n",
            "90000: 0.0, alpha=0.3, epsilon=0.9\n",
            "95000: 0.0, alpha=0.3, epsilon=0.9\n"
          ]
        }
      ],
      "source": [
        "def probs(v,eps=1e-4):\n",
        "    v = v-v.min()+eps\n",
        "    v = v/v.sum()\n",
        "    return v\n",
        "\n",
        "# hyperparameters\n",
        "alpha = 0.3\n",
        "gamma = 0.9\n",
        "epsilon = 0.90\n",
        "\n",
        "Qmax = 0\n",
        "cum_rewards = []\n",
        "rewards = []\n",
        "for epoch in range(100000):\n",
        "    obs, info = env.reset() # Updated reset return values\n",
        "    done = False\n",
        "    cum_reward=0\n",
        "    # == do the simulation ==\n",
        "    while not done:\n",
        "        s = discretize(obs)\n",
        "        if random.random()<epsilon:\n",
        "            # exploitation - chose the action according to Q-Table probabilities\n",
        "            v = probs(np.array(qvalues(s)))\n",
        "            a = random.choices(actions,weights=v)[0]\n",
        "        else:\n",
        "            # exploration - randomly chose the action\n",
        "            a = np.random.randint(env.action_space.n)\n",
        "\n",
        "        obs, rew, terminated, truncated, info = env.step(a) # Updated step return values\n",
        "        done = terminated or truncated # Update done flag\n",
        "        ns = discretize(obs)\n",
        "        Q[(s,a)] = (1 - alpha) * Q.get((s,a),0) + alpha * (rew + gamma * max(qvalues(ns)))\n",
        "    cum_rewards.append(cum_reward)\n",
        "    rewards.append(cum_reward)\n",
        "    # == Periodically print results and calculate average reward ==\n",
        "    if epoch%5000==0:\n",
        "        print(f\"{epoch}: {np.average(cum_rewards)}, alpha={alpha}, epsilon={epsilon}\")\n",
        "        if np.average(cum_rewards) > Qmax:\n",
        "            Qmax = np.average(cum_rewards)\n",
        "            Qbest = Q\n",
        "        cum_rewards=[]"
      ]
    },
    {
      "source": [
        "## Plotting Training Progress"
      ],
      "cell_type": "markdown",
      "metadata": {
        "id": "jKrnV1xDtGWn"
      }
    },
    {
      "cell_type": "code",
      "execution_count": 32,
      "metadata": {
        "colab": {
          "base_uri": "https://localhost:8080/",
          "height": 447
        },
        "id": "kgqKZYtftGWn",
        "outputId": "8364a03c-892b-41d1-f85c-67bbcb5db420"
      },
      "outputs": [
        {
          "output_type": "execute_result",
          "data": {
            "text/plain": [
              "[<matplotlib.lines.Line2D at 0x7a797abf1340>]"
            ]
          },
          "metadata": {},
          "execution_count": 32
        },
        {
          "output_type": "display_data",
          "data": {
            "text/plain": [
              "<Figure size 640x480 with 1 Axes>"
            ],
            "image/png": "[encoded data removed]"
          },
          "metadata": {}
        }
      ],
      "source": [
        "plt.plot(rewards)"
      ]
    },
    {
      "source": [
        "From this graph, it is not possible to tell anything, because due to the nature of stochastic training process the length of training sessions varies greatly. To make more sense of this graph, we can calculate **running average** over series of experiments, let's say 100. This can be done conveniently using `np.convolve`:"
      ],
      "cell_type": "markdown",
      "metadata": {
        "id": "U9j1naM7tGWn"
      }
    },
    {
      "cell_type": "code",
      "execution_count": 33,
      "metadata": {
        "colab": {
          "base_uri": "https://localhost:8080/",
          "height": 502
        },
        "id": "J--yWmQhtGWn",
        "outputId": "a9acd77c-855b-4f55-adf3-834c6a9f3662"
      },
      "outputs": [
        {
          "output_type": "execute_result",
          "data": {
            "text/plain": [
              "[<matplotlib.lines.Line2D at 0x7a7976912f00>]"
            ]
          },
          "metadata": {},
          "execution_count": 33
        },
        {
          "output_type": "stream",
          "name": "stderr",
          "text": [
            "/usr/local/lib/python3.12/dist-packages/jupyter_client/session.py:203: DeprecationWarning: datetime.datetime.utcnow() is deprecated and scheduled for removal in a future version. Use timezone-aware objects to represent datetimes in UTC: datetime.datetime.now(datetime.UTC).\n",
            "  return datetime.utcnow().replace(tzinfo=utc)\n"
          ]
        },
        {
          "output_type": "display_data",
          "data": {
            "text/plain": [
              "<Figure size 640x480 with 1 Axes>"
            ],
            "image/png": "[encoded data removed]"
          },
          "metadata": {}
        }
      ],
      "source": [
        "def running_average(x,window):\n",
        "    return np.convolve(x,np.ones(window)/window,mode='valid')\n",
        "\n",
        "plt.plot(running_average(rewards,100))"
      ]
    },
    {
      "source": [
        "## Varying Hyperparameters and Seeing the Result in Action\n",
        "\n",
        "Now it would be interesting to actually see how the trained model behaves. Let's run the simulation, and we will be following the same action selection strategy as during training: sampling according to the probability distribution in Q-Table:"
      ],
      "cell_type": "markdown",
      "metadata": {
        "id": "g96dHmPTtGWn"
      }
    },
    {
      "cell_type": "code",
      "execution_count": 34,
      "metadata": {
        "id": "Zc-DGli5tGWn"
      },
      "outputs": [],
      "source": [
        "obs, info = env.reset() # Update reset return values\n",
        "done = False\n",
        "while not done:\n",
        "   s = discretize(obs)\n",
        "   # env.render() # render is called implicitly when render_mode is set\n",
        "   v = probs(np.array(qvalues(s)))\n",
        "   a = random.choices(actions,weights=v)[0]\n",
        "   obs,_,terminated,truncated,_ = env.step(a) # Updated step return values\n",
        "   done = terminated or truncated # Update done flag\n",
        "env.close()"
      ]
    },
    {
      "source": [
        "\n",
        "## Saving result to an animated GIF\n",
        "\n",
        "If you want to impress your friends, you may want to send them the animated GIF picture of the balancing pole. To do this, we can invoke `env.render` to produce an image frame, and then save those to animated GIF using PIL library:"
      ],
      "cell_type": "markdown",
      "metadata": {
        "id": "MLGaniTLtGWn"
      }
    },
    {
      "cell_type": "code",
      "execution_count": 36,
      "metadata": {
        "colab": {
          "base_uri": "https://localhost:8080/"
        },
        "id": "fQIlWB6ptGWn",
        "outputId": "4906e8b5-d265-4e0f-c70a-88e1989fe1b7"
      },
      "outputs": [
        {
          "output_type": "stream",
          "name": "stdout",
          "text": [
            "110\n"
          ]
        }
      ],
      "source": [
        "from PIL import Image\n",
        "obs, info = env.reset() # Update reset return values\n",
        "done = False\n",
        "i=0\n",
        "ims = []\n",
        "while not done:\n",
        "   s = discretize(obs)\n",
        "   #img=env.render() # render is called implicitly when render_mode is set\n",
        "   #ims.append(Image.fromarray(img))\n",
        "   v = probs(np.array([Q.get((s,a),0) for a in actions])) # Changed Qbest to Q\n",
        "   a = random.choices(actions,weights=v)[0]\n",
        "   obs,_,terminated,truncated,_ = env.step(a) # Updated step return values\n",
        "   done = terminated or truncated # Update done flag\n",
        "   i+=1\n",
        "env.close()\n",
        "#ims[0].save('images/cartpole-balance.gif',save_all=True,append_images=ims[1::2],loop=0,duration=5)\n",
        "print(i)"
      ]
    }
  ]
}